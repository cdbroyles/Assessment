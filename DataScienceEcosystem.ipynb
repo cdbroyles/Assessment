{
 "cells": [
  {
   "cell_type": "markdown",
   "id": "00a602fd",
   "metadata": {},
   "source": [
    "# Data Science Tools and Ecosystem"
   ]
  },
  {
   "cell_type": "markdown",
   "id": "48b3dcfb",
   "metadata": {},
   "source": [
    "In this notebook, Data Science Tools and Ecosystem are summarized."
   ]
  },
  {
   "cell_type": "markdown",
   "id": "da7b29cc",
   "metadata": {},
   "source": [
    "**Objectives:**\n",
    "- Know popular languages that Data Scientists use\n",
    "- Know some of the commonly used libraries used by Data Scientists\n",
    "- Getting familiar with the basic tools of Juypter Notebooks (including using markdown cells, creating headings, creating tables)\n",
    "- Getting familiar with basic python arithmetic expressions"
   ]
  },
  {
   "cell_type": "markdown",
   "id": "ac9d9e4c",
   "metadata": {},
   "source": [
    "Some of the popular languages that Data Scientists use are:\n",
    "1. Python\n",
    "2. R\n",
    "3. SQL"
   ]
  },
  {
   "cell_type": "markdown",
   "id": "2ae73895",
   "metadata": {},
   "source": [
    "Some of the commonly used libraries used by Data Scientists include:\n",
    "1. ggplot2\n",
    "2. Pandas\n",
    "3. matplotlib"
   ]
  },
  {
   "cell_type": "markdown",
   "id": "79dc75d1",
   "metadata": {},
   "source": [
    "| Data Science Tools |\n",
    "|--------------------|\n",
    "| GitHub |\n",
    "|RStudio|\n",
    "|Juypter Lab|"
   ]
  },
  {
   "cell_type": "markdown",
   "id": "e09c65e1",
   "metadata": {},
   "source": [
    "### Below are a few examples of evaluating arithmetic expressions in Python"
   ]
  },
  {
   "cell_type": "code",
   "execution_count": 1,
   "id": "56d7e067",
   "metadata": {},
   "outputs": [
    {
     "data": {
      "text/plain": [
       "17"
      ]
     },
     "execution_count": 1,
     "metadata": {},
     "output_type": "execute_result"
    }
   ],
   "source": [
    "#This is a simple arithmetic expression to multiply then add integers.\n",
    "(3*4)+5"
   ]
  },
  {
   "cell_type": "code",
   "execution_count": 6,
   "id": "b4ca60d0",
   "metadata": {},
   "outputs": [
    {
     "name": "stdout",
     "output_type": "stream",
     "text": [
      "3.3333333333333335 hours\n"
     ]
    }
   ],
   "source": [
    "#This will convert 200 minutes to hours by dividing by 60\n",
    "def mintohrs(x):\n",
    "    y = x/60\n",
    "    print(y,\"hours\")\n",
    "\n",
    "mintohrs(200)"
   ]
  },
  {
   "cell_type": "markdown",
   "id": "1d5dc171",
   "metadata": {},
   "source": [
    "## Author\n",
    "Chris Broyles"
   ]
  },
  {
   "cell_type": "code",
   "execution_count": null,
   "id": "69c1616f",
   "metadata": {},
   "outputs": [],
   "source": []
  }
 ],
 "metadata": {
  "kernelspec": {
   "display_name": "Python 3 (ipykernel)",
   "language": "python",
   "name": "python3"
  },
  "language_info": {
   "codemirror_mode": {
    "name": "ipython",
    "version": 3
   },
   "file_extension": ".py",
   "mimetype": "text/x-python",
   "name": "python",
   "nbconvert_exporter": "python",
   "pygments_lexer": "ipython3",
   "version": "3.10.9"
  }
 },
 "nbformat": 4,
 "nbformat_minor": 5
}
